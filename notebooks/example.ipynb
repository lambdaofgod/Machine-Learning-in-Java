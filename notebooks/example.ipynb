{
 "cells": [
  {
   "cell_type": "code",
   "execution_count": null,
   "metadata": {
    "collapsed": false,
    "deletable": true,
    "editable": true
   },
   "outputs": [
    {
     "name": "stdout",
     "output_type": "stream",
     "text": [
      "Compiling importer.sc\n"
     ]
    }
   ],
   "source": [
    "import $file.scripts.importer\n",
    "import ammonite.ops._\n",
    "\n",
    "importer.loadProjectDependencies"
   ]
  },
  {
   "cell_type": "code",
   "execution_count": 3,
   "metadata": {
    "collapsed": false,
    "deletable": true,
    "editable": true
   },
   "outputs": [
    {
     "data": {
      "text/plain": [
       "\u001b[36mdataFolderPath\u001b[39m: \u001b[32mString\u001b[39m = \u001b[32m\"data/bbc\"\u001b[39m\n",
       "\u001b[36mstopListFilePath\u001b[39m: \u001b[32mString\u001b[39m = \u001b[32m\"data/stoplists/en.txt\"\u001b[39m"
      ]
     },
     "execution_count": 3,
     "metadata": {},
     "output_type": "execute_result"
    }
   ],
   "source": [
    "val dataFolderPath = \"data/bbc\"\n",
    "val stopListFilePath = \"data/stoplists/en.txt\";"
   ]
  },
  {
   "cell_type": "code",
   "execution_count": 4,
   "metadata": {
    "collapsed": false,
    "deletable": true,
    "editable": true
   },
   "outputs": [
    {
     "data": {
      "text/plain": [
       "\u001b[32mimport \u001b[39m\u001b[36morg.deeplearning4j.datasets.iterator.DataSetIterator\n",
       "\u001b[39m\n",
       "\u001b[32mimport \u001b[39m\u001b[36morg.deeplearning4j.datasets.iterator.impl.MnistDataSetIterator\n",
       "\u001b[39m\n",
       "\u001b[32mimport \u001b[39m\u001b[36morg.deeplearning4j.eval.Evaluation\n",
       "\u001b[39m\n",
       "\u001b[32mimport \u001b[39m\u001b[36morg.deeplearning4j.nn.api.OptimizationAlgorithm\n",
       "\u001b[39m\n",
       "\u001b[32mimport \u001b[39m\u001b[36morg.deeplearning4j.nn.conf.GradientNormalization\n",
       "\u001b[39m\n",
       "\u001b[32mimport \u001b[39m\u001b[36morg.deeplearning4j.nn.conf.MultiLayerConfiguration\n",
       "\u001b[39m\n",
       "\u001b[32mimport \u001b[39m\u001b[36morg.deeplearning4j.nn.conf.NeuralNetConfiguration\n",
       "\u001b[39m\n",
       "\u001b[32mimport \u001b[39m\u001b[36morg.deeplearning4j.nn.conf.distribution.NormalDistribution\n",
       "\u001b[39m\n",
       "\u001b[32mimport \u001b[39m\u001b[36morg.deeplearning4j.nn.conf.layers.ConvolutionLayer\n",
       "\u001b[39m\n",
       "\u001b[32mimport \u001b[39m\u001b[36morg.deeplearning4j.nn.conf.layers.DenseLayer\n",
       "\u001b[39m\n",
       "\u001b[32mimport \u001b[39m\u001b[36morg.deeplearning4j.nn.conf.layers.OutputLayer\n",
       "\u001b[39m\n",
       "\u001b[32mimport \u001b[39m\u001b[36morg.deeplearning4j.nn.conf.layers.RBM\n",
       "\u001b[39m\n",
       "\u001b[32mimport \u001b[39m\u001b[36morg.deeplearning4j.nn.conf.layers.SubsamplingLayer\n",
       "\u001b[39m\n",
       "\u001b[32mimport \u001b[39m\u001b[36morg.deeplearning4j.nn.multilayer.MultiLayerNetwork\n",
       "\u001b[39m\n",
       "\u001b[32mimport \u001b[39m\u001b[36morg.deeplearning4j.nn.weights.WeightInit\n",
       "\u001b[39m\n",
       "\u001b[32mimport \u001b[39m\u001b[36morg.deeplearning4j.optimize.api.IterationListener\n",
       "\u001b[39m\n",
       "\u001b[32mimport \u001b[39m\u001b[36morg.deeplearning4j.optimize.listeners.ScoreIterationListener\n",
       "\u001b[39m\n",
       "\u001b[32mimport \u001b[39m\u001b[36morg.nd4j.linalg.api.ndarray.INDArray\n",
       "\u001b[39m\n",
       "\u001b[32mimport \u001b[39m\u001b[36morg.nd4j.linalg.dataset.DataSet\n",
       "\u001b[39m\n",
       "\u001b[32mimport \u001b[39m\u001b[36morg.nd4j.linalg.lossfunctions.LossFunctions\n",
       "\u001b[39m\n",
       "\u001b[32mimport \u001b[39m\u001b[36morg.nd4j.linalg.lossfunctions.LossFunctions.LossFunction\n",
       "\u001b[39m\n",
       "\u001b[32mimport \u001b[39m\u001b[36morg.slf4j.Logger\n",
       "\u001b[39m\n",
       "\u001b[32mimport \u001b[39m\u001b[36morg.slf4j.LoggerFactory\n",
       "\u001b[39m"
      ]
     },
     "execution_count": 4,
     "metadata": {},
     "output_type": "execute_result"
    }
   ],
   "source": [
    "import org.deeplearning4j.datasets.iterator.DataSetIterator\n",
    "import org.deeplearning4j.datasets.iterator.impl.MnistDataSetIterator\n",
    "import org.deeplearning4j.eval.Evaluation\n",
    "import org.deeplearning4j.nn.api.OptimizationAlgorithm\n",
    "import org.deeplearning4j.nn.conf.GradientNormalization\n",
    "import org.deeplearning4j.nn.conf.MultiLayerConfiguration\n",
    "import org.deeplearning4j.nn.conf.NeuralNetConfiguration\n",
    "import org.deeplearning4j.nn.conf.distribution.NormalDistribution\n",
    "import org.deeplearning4j.nn.conf.layers.ConvolutionLayer\n",
    "import org.deeplearning4j.nn.conf.layers.DenseLayer\n",
    "import org.deeplearning4j.nn.conf.layers.OutputLayer\n",
    "import org.deeplearning4j.nn.conf.layers.RBM\n",
    "import org.deeplearning4j.nn.conf.layers.SubsamplingLayer\n",
    "import org.deeplearning4j.nn.multilayer.MultiLayerNetwork\n",
    "import org.deeplearning4j.nn.weights.WeightInit\n",
    "import org.deeplearning4j.optimize.api.IterationListener\n",
    "import org.deeplearning4j.optimize.listeners.ScoreIterationListener\n",
    "import org.nd4j.linalg.api.ndarray.INDArray\n",
    "import org.nd4j.linalg.dataset.DataSet\n",
    "import org.nd4j.linalg.lossfunctions.LossFunctions\n",
    "import org.nd4j.linalg.lossfunctions.LossFunctions.LossFunction\n",
    "import org.slf4j.Logger\n",
    "import org.slf4j.LoggerFactory\n"
   ]
  },
  {
   "cell_type": "code",
   "execution_count": 2,
   "metadata": {
    "collapsed": false
   },
   "outputs": [
    {
     "name": "stderr",
     "output_type": "stream",
     "text": [
      "cmd2.sc:3: could not find implicit value for parameter arg: ammonite.ops.Path\n",
      "val res2_1 = ls!\n",
      "               ^"
     ]
    },
    {
     "ename": "",
     "evalue": "",
     "output_type": "error",
     "traceback": [
      "Compilation Failed"
     ]
    }
   ],
   "source": [
    "import ammonite.ops._\n",
    "\n",
    "ls!"
   ]
  },
  {
   "cell_type": "code",
   "execution_count": null,
   "metadata": {
    "collapsed": true
   },
   "outputs": [],
   "source": []
  }
 ],
 "metadata": {
  "kernelspec": {
   "display_name": "Scala",
   "language": "scala",
   "name": "scala"
  },
  "language_info": {
   "codemirror_mode": "text/x-scala",
   "file_extension": ".scala",
   "mimetype": "text/x-scala",
   "name": "scala211",
   "nbconvert_exporter": "script",
   "pygments_lexer": "scala",
   "version": "2.11.8"
  }
 },
 "nbformat": 4,
 "nbformat_minor": 0
}
